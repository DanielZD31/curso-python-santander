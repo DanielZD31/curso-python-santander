{
 "cells": [
  {
   "cell_type": "code",
   "execution_count": 2,
   "id": "dd267d41-a558-416f-8f30-8ded975b9f8a",
   "metadata": {},
   "outputs": [
    {
     "name": "stdout",
     "output_type": "stream",
     "text": [
      "13\n",
      "7\n",
      "30\n",
      "3.3333333333333335\n",
      "3\n",
      "1\n",
      "1000\n"
     ]
    }
   ],
   "source": [
    "a = 10\n",
    "b = 3\n",
    "\n",
    "soma = a + b #13\n",
    "subtracao = a - b #7\n",
    "multiplicacao = a * b #30\n",
    "divisao = a/b #3.33333\n",
    "divisao_inteira = a//b #3\n",
    "modulo = a % b #1\n",
    "exponenciacao = a ** b #1000\n",
    "\n",
    "print(soma)\n",
    "print(subtracao)\n",
    "print(multiplicacao)\n",
    "print(divisao)\n",
    "print(divisao_inteira)\n",
    "print(modulo)\n",
    "print(exponenciacao)"
   ]
  },
  {
   "cell_type": "code",
   "execution_count": 8,
   "id": "39ea56c1-f7d6-4ed0-8517-f32faa8c8155",
   "metadata": {},
   "outputs": [
    {
     "name": "stdout",
     "output_type": "stream",
     "text": [
      "False\n",
      "True\n",
      "True\n",
      "False\n",
      "True\n",
      "False\n"
     ]
    }
   ],
   "source": [
    "a = 10\n",
    "b = 3\n",
    "\n",
    "\n",
    "igual = a == b   # False\n",
    "diferente = a != b   # True\n",
    "maior_que = a > b   # True\n",
    "menor_que = a < b   # False\n",
    "maior_ou_igual = a >= b   # True\n",
    "menor_ou_igual = a <= b   # False\n",
    "\n",
    "print(igual)\n",
    "print(diferente)\n",
    "print(maior_que)\n",
    "print(menor_que)\n",
    "print(maior_ou_igual)\n",
    "print(menor_ou_igual)"
   ]
  },
  {
   "cell_type": "code",
   "execution_count": 9,
   "id": "815c8016-1eac-4ec8-8b1f-f2b6c35cdf5c",
   "metadata": {},
   "outputs": [
    {
     "name": "stdout",
     "output_type": "stream",
     "text": [
      "True\n",
      "True\n",
      "False\n"
     ]
    }
   ],
   "source": [
    "a = 10\n",
    "b = 3\n",
    "\n",
    "\n",
    "resultado_and = (a > 5) and (b < 5)   # True\n",
    "resultado_or = (a > 15) or (b < 5)   # True\n",
    "resultado_not = not (a > 5)   # False\n",
    "\n",
    "print(resultado_and)\n",
    "print(resultado_or)\n",
    "print(resultado_not)"
   ]
  },
  {
   "cell_type": "code",
   "execution_count": null,
   "id": "98aecbe3-e183-4c20-9a4c-98c495838b37",
   "metadata": {},
   "outputs": [],
   "source": []
  }
 ],
 "metadata": {
  "kernelspec": {
   "display_name": "Python 3 (ipykernel)",
   "language": "python",
   "name": "python3"
  },
  "language_info": {
   "codemirror_mode": {
    "name": "ipython",
    "version": 3
   },
   "file_extension": ".py",
   "mimetype": "text/x-python",
   "name": "python",
   "nbconvert_exporter": "python",
   "pygments_lexer": "ipython3",
   "version": "3.8.10"
  }
 },
 "nbformat": 4,
 "nbformat_minor": 5
}
