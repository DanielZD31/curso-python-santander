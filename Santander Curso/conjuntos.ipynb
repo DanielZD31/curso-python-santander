{
 "cells": [
  {
   "cell_type": "markdown",
   "id": "bcda5a20-6ac6-4e25-841d-483f2ecc66f9",
   "metadata": {},
   "source": [
    "# 4.3. Conjuntos (set)\n",
    "\n",
    "Um conjunto é uma estrutura de dados mutável e não ordenada que permite armazenar uma coleção de elementos únicos. Os conjuntos são delimitados por chaves {} ou são criados utilizando a função set().\n",
    "\n",
    " \n",
    "\n",
    "Criação e operações básicas\n",
    "Para criar um conjunto, utilize chaves ou a função set():"
   ]
  },
  {
   "cell_type": "code",
   "execution_count": 1,
   "id": "850c9ecd-227d-47e3-a010-05436e1f4cc2",
   "metadata": {},
   "outputs": [],
   "source": [
    "frutas = {\"maçã\", \"banana\", \"laranja\"}\n",
    "numeros = set([1, 2, 3, 4, 5])"
   ]
  },
  {
   "cell_type": "markdown",
   "id": "38520bae-2617-42f3-8991-35e0eb4fc9cb",
   "metadata": {},
   "source": [
    "Os conjuntos suportam operações matemáticas de conjuntos, como a união (|), a interseção (&), a diferença (-) e a diferença simétrica (^)."
   ]
  },
  {
   "cell_type": "code",
   "execution_count": 2,
   "id": "3c3eb5a8-9e78-4305-a012-ed636f440887",
   "metadata": {},
   "outputs": [
    {
     "name": "stdout",
     "output_type": "stream",
     "text": [
      "{1, 2, 3, 4, 5}\n",
      "{3}\n",
      "{1, 2}\n",
      "{1, 2, 4, 5}\n"
     ]
    }
   ],
   "source": [
    "conjunto1 = {1, 2, 3}\n",
    "conjunto2 = {3, 4, 5}\n",
    "\n",
    "\n",
    "uniao = conjunto1 | conjunto2\n",
    "print(uniao)  # Imprime {1, 2, 3, 4, 5}\n",
    "\n",
    "\n",
    "intersecao = conjunto1 & conjunto2\n",
    "print(intersecao)  # Imprime {3}\n",
    "\n",
    "\n",
    "diferenca = conjunto1 - conjunto2\n",
    "print(diferenca)  # Imprime {1, 2}\n",
    "\n",
    "\n",
    "diferenca_simetrica = conjunto1 ^ conjunto2\n",
    "print(diferenca_simetrica)  # Imprime {1, 2, 4, 5}"
   ]
  },
  {
   "cell_type": "markdown",
   "id": "77a5abb7-4c25-4cc1-97f7-2395d6d9d9d7",
   "metadata": {},
   "source": [
    "**Métodos de conjuntos**\n",
    "\n",
    "Os conjuntos em Python têm vários métodos incorporados para manipular e acessar os elementos. Alguns métodos comuns são:\n",
    "\n",
    "add(elemento): adiciona um elemento ao conjunto.\n",
    "remove(elemento): remove um elemento do conjunto. Se o elemento não existir, gera um erro.\n",
    "discard(elemento): remove um elemento do conjunto se estiver presente. Se o elemento não existir, não faz nada.\n",
    "clear(): remove todos os elementos do conjunto.\n",
    "    \n",
    "Exemplo:"
   ]
  },
  {
   "cell_type": "code",
   "execution_count": 3,
   "id": "09d90c90-dc8b-498f-aae8-a1113be5e260",
   "metadata": {},
   "outputs": [
    {
     "name": "stdout",
     "output_type": "stream",
     "text": [
      "{'banana', 'laranja', 'maçã', 'pera'}\n",
      "{'laranja', 'maçã', 'pera'}\n",
      "{'laranja', 'maçã', 'pera'}\n",
      "set()\n"
     ]
    }
   ],
   "source": [
    "frutas = {\"maçã\", \"banana\", \"laranja\"}\n",
    "\n",
    "\n",
    "frutas.add(\"pera\")\n",
    "print(frutas)  # Imprime {\"maçã\", \"banana\", \"laranja\", \"pera\"}\n",
    "\n",
    "\n",
    "frutas.remove(\"banana\")\n",
    "print(frutas)  # Imprime {\"maçã\", \"laranja\", \"pera\"}\n",
    "\n",
    "\n",
    "frutas.discard(\"uva\")\n",
    "print(frutas)  # Imprime {\"maçã\", \"laranja\", \"pera\"}\n",
    "\n",
    "\n",
    "frutas.clear()\n",
    "print(frutas)  # Imprime set()"
   ]
  },
  {
   "cell_type": "markdown",
   "id": "ba973a02-6f39-4745-9266-5bdfc94ce060",
   "metadata": {},
   "source": [
    "As estruturas de dados em Python nos oferecem grande flexibilidade e potência para armazenar e manipular dados em nossos programas. As listas são úteis para coleções ordenadas e mutáveis, as tuplas para coleções ordenadas e imutáveis, os dicionários para armazenar pares de chave valor e os conjuntos para coleções não ordenadas de elementos únicos.\n"
   ]
  }
 ],
 "metadata": {
  "kernelspec": {
   "display_name": "Python 3 (ipykernel)",
   "language": "python",
   "name": "python3"
  },
  "language_info": {
   "codemirror_mode": {
    "name": "ipython",
    "version": 3
   },
   "file_extension": ".py",
   "mimetype": "text/x-python",
   "name": "python",
   "nbconvert_exporter": "python",
   "pygments_lexer": "ipython3",
   "version": "3.8.10"
  }
 },
 "nbformat": 4,
 "nbformat_minor": 5
}
