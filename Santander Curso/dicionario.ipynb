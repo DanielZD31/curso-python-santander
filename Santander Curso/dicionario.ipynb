{
 "cells": [
  {
   "cell_type": "markdown",
   "id": "5cc474fb-f165-4a1b-b941-fd937bfe169d",
   "metadata": {},
   "source": [
    "# 4.2. Dicionários\n",
    "\n",
    "Um dicionário é uma estrutura de dados mutável e não ordenada que permite armazenar pares de chave-valor. Cada elemento em um dicionário consiste em uma chave única e seu valor correspondente. Os dicionários são delimitados por chaves {}, e os pares chave-valor são separados por vírgulas.\n",
    "\n",
    " \n",
    "\n",
    "**Criação e acesso**\n",
    "Para criar um dicionário, utilize chaves e separe as chaves e valores com dois pontos.\n",
    "\n",
    "pessoa = {\"nome\": \"João\", \"idade\": 25, \"cidade\": \"Madri\"}\n",
    "\n",
    "Para acessar os valores de um dicionário, utilize a chave correspondente entre colchetes:"
   ]
  },
  {
   "cell_type": "code",
   "execution_count": 2,
   "id": "3e803a13-7dc1-4f17-816e-19d168f71103",
   "metadata": {},
   "outputs": [
    {
     "name": "stdout",
     "output_type": "stream",
     "text": [
      "João\n",
      "25\n",
      "Madri\n"
     ]
    }
   ],
   "source": [
    "pessoa = {\"nome\": \"João\", \"idade\": 25, \"cidade\": \"Madri\"}\n",
    "\n",
    "print(pessoa[\"nome\"])  # Imprime \"João\"\n",
    "print(pessoa[\"idade\"])    # Imprime 25\n",
    "print(pessoa[\"cidade\"])  # Imprime \"Madri\""
   ]
  },
  {
   "cell_type": "markdown",
   "id": "b22c98ca-1293-4506-9f1f-3efc3654b86b",
   "metadata": {},
   "source": [
    "Você também pode utilizar o método get() para obter o valor de uma chave. Se a chave não existir, retorna um valor padrão (por padrão, None).\n",
    "\n",
    " \n",
    "\n",
    "**Métodos de dicionários**\n",
    "Os dicionários em Python têm vários métodos incorporados para manipular e acessar os elementos. Alguns métodos comuns são:\n",
    "\n",
    "keys(): retorna uma visualização de todas as chaves do dicionário.\n",
    "values(): retorna uma visualização de todos os valores do dicionário.\n",
    "items(): retorna uma visualização de todos os pares chave-valor do dicionário.\n",
    "update(outro_dicionario): atualiza o dicionário com os pares chave-valor de outro dicionário.\n",
    "\n",
    "Exemplo:"
   ]
  },
  {
   "cell_type": "code",
   "execution_count": 3,
   "id": "ec1bbf38-8516-464d-8983-4199771e0161",
   "metadata": {},
   "outputs": [
    {
     "name": "stdout",
     "output_type": "stream",
     "text": [
      "dict_keys(['nome', 'idade', 'cidade'])\n",
      "dict_values(['João', 25, 'Madri'])\n",
      "dict_items([('nome', 'João'), ('idade', 25), ('cidade', 'Madri')])\n",
      "{'nome': 'João', 'idade': 25, 'cidade': 'Madri', 'profissao': 'Engenheiro'}\n"
     ]
    }
   ],
   "source": [
    "pessoa = {\"nome\": \"João\", \"idade\": 25, \"cidade\": \"Madri\"}\n",
    "\n",
    "\n",
    "print(pessoa.keys())    # Imprime dict_keys([\"nome\", \"idade\", \"cidade\"])\n",
    "print(pessoa.values())  # Imprime dict_values([\"João\", 25, \"Madri\"])\n",
    "print(pessoa.items())   # Imprime dict_items([(\"nome\", \"João\"), (\"idade\", 25), (\"cidade\", \"Madri\")])\n",
    "\n",
    "\n",
    "pessoa.update({\"profissao\": \"Engenheiro\"})\n",
    "print(pessoa)  # Imprime {\"nome\": \"João\", \"idade\": 25, \"cidade\": \"Madri\", \"profissao\": \"Engenheiro\"}"
   ]
  }
 ],
 "metadata": {
  "kernelspec": {
   "display_name": "Python 3 (ipykernel)",
   "language": "python",
   "name": "python3"
  },
  "language_info": {
   "codemirror_mode": {
    "name": "ipython",
    "version": 3
   },
   "file_extension": ".py",
   "mimetype": "text/x-python",
   "name": "python",
   "nbconvert_exporter": "python",
   "pygments_lexer": "ipython3",
   "version": "3.8.10"
  }
 },
 "nbformat": 4,
 "nbformat_minor": 5
}
