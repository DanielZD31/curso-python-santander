{
 "cells": [
  {
   "cell_type": "code",
   "execution_count": 4,
   "id": "8a7dce16-99c2-429c-a170-e167b88c5cc3",
   "metadata": {},
   "outputs": [
    {
     "name": "stdout",
     "output_type": "stream",
     "text": [
      "É um número Impar!\n"
     ]
    }
   ],
   "source": [
    "numero = 7\n",
    "if (numero % 2 == 0):\n",
    "    print(\"É um número Par!\")\n",
    "else:\n",
    "    print(\"É um número Impar!\")"
   ]
  },
  {
   "cell_type": "code",
   "execution_count": 9,
   "id": "1b597c84-91bf-4697-b9e7-874f36b8db06",
   "metadata": {},
   "outputs": [
    {
     "name": "stdout",
     "output_type": "stream",
     "text": [
      "23\n"
     ]
    }
   ],
   "source": [
    "def multiplicar (a,b):\n",
    "    return a*b\n",
    "\n",
    "resultado = multiplicar(5,3) + multiplicar (2,4)\n",
    "print(resultado)"
   ]
  },
  {
   "cell_type": "markdown",
   "id": "7012b80b-e4f3-4a97-9e68-6283a30c6d76",
   "metadata": {},
   "source": [
    "Qual estrutura de dados em Python é usada para armazenar uma coleção ordenada e mutável de elementos?\n",
    "\n",
    "\n"
   ]
  }
 ],
 "metadata": {
  "kernelspec": {
   "display_name": "Python 3 (ipykernel)",
   "language": "python",
   "name": "python3"
  },
  "language_info": {
   "codemirror_mode": {
    "name": "ipython",
    "version": 3
   },
   "file_extension": ".py",
   "mimetype": "text/x-python",
   "name": "python",
   "nbconvert_exporter": "python",
   "pygments_lexer": "ipython3",
   "version": "3.8.10"
  }
 },
 "nbformat": 4,
 "nbformat_minor": 5
}
