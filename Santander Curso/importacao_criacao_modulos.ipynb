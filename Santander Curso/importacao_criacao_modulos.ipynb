{
 "cells": [
  {
   "cell_type": "markdown",
   "id": "1675e22d-0e23-4353-b492-011838bbb916",
   "metadata": {},
   "source": [
    "# 8. Importação e criação de módulos\n",
    "\n",
    "Em Python, um módulo é um arquivo que contém definições de funções, classes e variáveis que podem ser utilizadas em outros programas. A importação de módulos nos permite acessar a funcionalidade definida em outros arquivos e reutilizar código de maneira eficiente. Além disso, podemos criar nossos próprios módulos para organizar e modularizar nosso código."
   ]
  },
  {
   "cell_type": "markdown",
   "id": "ce0798fd-93fa-43ec-8471-037283b90f83",
   "metadata": {},
   "source": [
    "# Tenha em mente\n",
    "\n",
    "**Python vem com uma ampla biblioteca padrão de módulos que fornecem funcionalidades adicionais. Esses módulos estão disponíveis sem a necessidade de instalá-los separadamente.**"
   ]
  },
  {
   "cell_type": "markdown",
   "id": "7f3dbc01-7423-4a92-87f8-6a3bf3e13006",
   "metadata": {},
   "source": [
    "**Importar módulos**\n",
    "\n",
    "Para utilizar um módulo em nosso programa, devemos importá-lo utilizando a declaração import. Podemos importar um módulo completo ou funções específicas de um módulo."
   ]
  },
  {
   "cell_type": "code",
   "execution_count": 1,
   "id": "d9648b50-ae3a-4d25-a91d-f2099b60bcfd",
   "metadata": {},
   "outputs": [
    {
     "name": "stdout",
     "output_type": "stream",
     "text": [
      "5.0\n"
     ]
    }
   ],
   "source": [
    "import math\n",
    "\n",
    "\n",
    "resultado = math.sqrt(25)\n",
    "print(resultado)  # Imprime 5.0"
   ]
  },
  {
   "cell_type": "markdown",
   "id": "1eebc464-74ea-4c72-82b0-0e505955f1a0",
   "metadata": {},
   "source": [
    "Neste exemplo, importa-se o módulo math utilizando a declaração import. Em seguida, utiliza-se a função sqrt() do módulo math para calcular a raiz quadrada de 25.\n",
    "\n",
    "Também podemos importar funções específicas de um módulo utilizando a sintaxe from módulo import função."
   ]
  },
  {
   "cell_type": "code",
   "execution_count": 2,
   "id": "8c1b15c6-2cb0-4bb3-97c0-05ad0e666dca",
   "metadata": {},
   "outputs": [
    {
     "name": "stdout",
     "output_type": "stream",
     "text": [
      "5.0\n"
     ]
    }
   ],
   "source": [
    "from math import sqrt\n",
    "\n",
    "\n",
    "resultado = sqrt(25)\n",
    "print(resultado)  # Imprime 5.0"
   ]
  },
  {
   "cell_type": "markdown",
   "id": "e878c50b-f88a-4fdc-ba1a-9e5efd4da5cc",
   "metadata": {},
   "source": [
    "Neste caso, importa-se apenas a função sqrt() do módulo math, o que nos permite utilizá-la diretamente sem ter que precedê-la com o nome do módulo."
   ]
  },
  {
   "cell_type": "markdown",
   "id": "d7ba8ea1-fcc9-4aa9-8ccc-7236a9a57260",
   "metadata": {},
   "source": [
    "**Funções e classes de módulos padrão**\n",
    "\n",
    "A biblioteca padrão de Python oferece uma ampla gama de módulos com funções e classes úteis. Alguns exemplos comuns incluem:\n",
    "\n",
    "Math:Fornece funções matemáticas, como sqrt() (raiz quadrada), sin() (seno), cos() (cosseno), entre outras.\n",
    "\n",
    "Random:Oferece funções para gerar números aleatórios, como random() (número aleatório entre 0 e 1), randint() (número inteiro aleatório em um intervalo), entre outras.\n",
    "\n",
    "Detetime:Permite trabalhar com datas e horas, como datetime.now() (data e hora atual), datetime.date() (data), datetime.time() (hora), entre outras."
   ]
  },
  {
   "cell_type": "code",
   "execution_count": 4,
   "id": "71915154-317b-49db-a55f-23637658c403",
   "metadata": {},
   "outputs": [
    {
     "name": "stdout",
     "output_type": "stream",
     "text": [
      "10\n",
      "2024-10-15 10:54:17.170201\n"
     ]
    }
   ],
   "source": [
    "import random\n",
    "import datetime\n",
    "\n",
    "\n",
    "numero_aleatorio = random.randint(1, 10)\n",
    "print(numero_aleatorio)  # Imprime um número inteiro aleatório entre 1 e 10\n",
    "\n",
    "\n",
    "data_atual = datetime.datetime.now()\n",
    "print(data_atual)  # Imprime a data e hora atual"
   ]
  },
  {
   "cell_type": "markdown",
   "id": "7a276f0a-6f28-426c-8312-269400fc5d47",
   "metadata": {},
   "source": [
    "Estes são apenas alguns exemplos dos muitos módulos disponíveis na biblioteca padrão de Python. Você pode consultar a documentação oficial de Python para obter mais informações sobre os módulos e suas funcionalidades."
   ]
  },
  {
   "cell_type": "markdown",
   "id": "6ab75f47-ae16-4f14-8fda-6a27bbef2f45",
   "metadata": {},
   "source": [
    "# 8.1. Criação de módulos próprios\n",
    "\n",
    "Além de utilizar os módulos padrão do Python, também podemos criar nossos próprios módulos para organizar e reutilizar nosso código.\n",
    "\n",
    " \n",
    "\n",
    "**Criar e utilizar módulos personalizados**\n",
    "\n",
    "Para criar um módulo personalizado, simplesmente criamos um novo arquivo Python com o nome desejado e definimos as funções, classes e variáveis que queremos incluir no módulo. Por exemplo, criamos um arquivo (no mesmo diretório onde estamos executando Python) chamado meu_modulo.py com o seguinte conteúdo:"
   ]
  },
  {
   "cell_type": "code",
   "execution_count": 7,
   "id": "076c7954-1a34-4b38-b540-35ad060c8cc1",
   "metadata": {},
   "outputs": [],
   "source": [
    "#meu_modulo.py\n",
    "def saudar(nome):\n",
    "    print(f\"Olá, {nome}!\")\n",
    "\n",
    "\n",
    "def calcular_soma(a, b):\n",
    "    return a + b"
   ]
  },
  {
   "cell_type": "markdown",
   "id": "14139617-d2d6-48a1-b21a-705186f5f815",
   "metadata": {},
   "source": [
    "Depois, podemos importar e utilizar as funções definidas em meu_modulo.py em outro arquivo Python."
   ]
  },
  {
   "cell_type": "code",
   "execution_count": 8,
   "id": "512c313c-b192-4e56-9d60-9cb8333ecf4f",
   "metadata": {},
   "outputs": [
    {
     "ename": "ModuleNotFoundError",
     "evalue": "No module named 'meu_modulo'",
     "output_type": "error",
     "traceback": [
      "\u001b[1;31m---------------------------------------------------------------------------\u001b[0m",
      "\u001b[1;31mModuleNotFoundError\u001b[0m                       Traceback (most recent call last)",
      "Cell \u001b[1;32mIn[8], line 1\u001b[0m\n\u001b[1;32m----> 1\u001b[0m \u001b[38;5;28;01mimport\u001b[39;00m \u001b[38;5;21;01mmeu_modulo\u001b[39;00m\n\u001b[0;32m      4\u001b[0m meu_modulo\u001b[38;5;241m.\u001b[39msaudar(\u001b[38;5;124m\"\u001b[39m\u001b[38;5;124mJoão\u001b[39m\u001b[38;5;124m\"\u001b[39m)  \u001b[38;5;66;03m# Imprime \"Olá, João!\"\u001b[39;00m\n\u001b[0;32m      5\u001b[0m resultado \u001b[38;5;241m=\u001b[39m meu_modulo\u001b[38;5;241m.\u001b[39mcalcular_soma(\u001b[38;5;241m5\u001b[39m, \u001b[38;5;241m3\u001b[39m)\n",
      "\u001b[1;31mModuleNotFoundError\u001b[0m: No module named 'meu_modulo'"
     ]
    }
   ],
   "source": [
    "import meu_modulo\n",
    "\n",
    "\n",
    "meu_modulo.saudar(\"João\")  # Imprime \"Olá, João!\"\n",
    "resultado = meu_modulo.calcular_soma(5, 3)\n",
    "print(resultado)  # Imprime 8"
   ]
  },
  {
   "cell_type": "markdown",
   "id": "e0b42a50-641b-4e8f-bd1f-30b53aa9b255",
   "metadata": {},
   "source": [
    "Neste exemplo, importa-se o módulo meu_modulo e utilizam-se as funções saudar() e calcular_soma() definidas nele.\n",
    "\n",
    " \n",
    "\n",
    "**Organização do código em módulos**\n",
    "\n",
    "À medida que nossos programas crescem em tamanho e complexidade, é uma boa prática organizar nosso código em módulos separados segundo sua funcionalidade. Isso nos permite manter um código mais legível, agrupado em módulos e fácil de manter.\n",
    "\n",
    "Por exemplo, podemos ter um módulo operacoes.py que contenha funções relacionadas com operações matemáticas, e outro módulo utilidades.py que contenha funções de uso geral."
   ]
  },
  {
   "cell_type": "code",
   "execution_count": 9,
   "id": "a65c3eda-095d-4750-b824-63437a2a34c4",
   "metadata": {},
   "outputs": [],
   "source": [
    "# operacoes.py\n",
    "def somar(a, b):\n",
    "    return a + b\n",
    "\n",
    "\n",
    "def subtrair(a, b):\n",
    "    return a - b\n",
    "\n",
    "\n",
    "# utilidades.py\n",
    "def imprimir_mensagem(mensagem):\n",
    "    print(mensagem)\n",
    "\n",
    "\n",
    "def obter_nome_usuario():\n",
    "    return input(\"Digite seu nome: \")"
   ]
  },
  {
   "cell_type": "markdown",
   "id": "1261feea-f7de-4ee1-af64-2f3519748153",
   "metadata": {},
   "source": [
    "Depois, podemos importar e utilizar essas funções em nosso programa principal."
   ]
  },
  {
   "cell_type": "code",
   "execution_count": 10,
   "id": "df936fe3-3fe5-434d-9efa-20999bb6ca18",
   "metadata": {},
   "outputs": [
    {
     "ename": "ModuleNotFoundError",
     "evalue": "No module named 'operacoes'",
     "output_type": "error",
     "traceback": [
      "\u001b[1;31m---------------------------------------------------------------------------\u001b[0m",
      "\u001b[1;31mModuleNotFoundError\u001b[0m                       Traceback (most recent call last)",
      "Cell \u001b[1;32mIn[10], line 1\u001b[0m\n\u001b[1;32m----> 1\u001b[0m \u001b[38;5;28;01mimport\u001b[39;00m \u001b[38;5;21;01moperacoes\u001b[39;00m\n\u001b[0;32m      2\u001b[0m \u001b[38;5;28;01mimport\u001b[39;00m \u001b[38;5;21;01mutilidades\u001b[39;00m\n\u001b[0;32m      5\u001b[0m resultado \u001b[38;5;241m=\u001b[39m operacoes\u001b[38;5;241m.\u001b[39msomar(\u001b[38;5;241m5\u001b[39m, \u001b[38;5;241m3\u001b[39m)\n",
      "\u001b[1;31mModuleNotFoundError\u001b[0m: No module named 'operacoes'"
     ]
    }
   ],
   "source": [
    "import operacoes\n",
    "import utilidades\n",
    "\n",
    "\n",
    "resultado = operacoes.somar(5, 3)\n",
    "utilidades.imprimir_mensagem(f\"O resultado da soma é: {resultado}\")\n",
    "\n",
    "\n",
    "nome = utilidades.obter_nome_usuario()\n",
    "utilidades.imprimir_mensagem(f\"Olá, {nome}!\")"
   ]
  },
  {
   "cell_type": "markdown",
   "id": "07bded5c-28fd-4d9d-b015-f38205441c80",
   "metadata": {},
   "source": [
    "Ao organizar nosso código em módulos, podemos reutilizar funções e manter um código mais estruturado e agrupado em módulos."
   ]
  },
  {
   "cell_type": "markdown",
   "id": "c283d4ff-ebdd-4e1c-8e29-74d975ed05ae",
   "metadata": {},
   "source": [
    "# 8.2. Pacotes\n",
    "\n",
    "Um pacote é uma forma de organizar módulos relacionados em uma estrutura hierárquica de diretórios. Os pacotes nos permitem agrupar módulos relacionados e evitar conflitos de nomes entre módulos.\n",
    "\n",
    " \n",
    "\n",
    "**Criar e utilizar pacotes**\n",
    "\n",
    "Para criar um pacote, criamos um diretório com o nome desejado e adicionamos um arquivo especial chamado __init__.py dentro do diretório. Este arquivo pode estar vazio ou conter código de inicialização do pacote.\n",
    "\n",
    "Por exemplo, criamos um diretório chamado meu_pacote com a seguinte estrutura:\n"
   ]
  },
  {
   "cell_type": "code",
   "execution_count": 11,
   "id": "4e8ae4d2-b704-413d-9323-f8691f6aeb62",
   "metadata": {},
   "outputs": [
    {
     "ename": "SyntaxError",
     "evalue": "invalid syntax (1455517132.py, line 1)",
     "output_type": "error",
     "traceback": [
      "\u001b[1;36m  Cell \u001b[1;32mIn[11], line 1\u001b[1;36m\u001b[0m\n\u001b[1;33m    meu_pacote/\u001b[0m\n\u001b[1;37m               ^\u001b[0m\n\u001b[1;31mSyntaxError\u001b[0m\u001b[1;31m:\u001b[0m invalid syntax\n"
     ]
    }
   ],
   "source": [
    "meu_pacote/\n",
    "    __init__.py\n",
    "    modulo1.py\n",
    "    modulo2.py"
   ]
  },
  {
   "cell_type": "markdown",
   "id": "3b520c03-87bd-45d6-9e3f-a1c9ed3e97b5",
   "metadata": {},
   "source": [
    "Depois, podemos importar e utilizar os módulos do pacote em nosso programa."
   ]
  },
  {
   "cell_type": "code",
   "execution_count": 12,
   "id": "98f69543-0dbe-4708-a5f2-0af73e4ed0f0",
   "metadata": {},
   "outputs": [
    {
     "ename": "ModuleNotFoundError",
     "evalue": "No module named 'meu_pacote'",
     "output_type": "error",
     "traceback": [
      "\u001b[1;31m---------------------------------------------------------------------------\u001b[0m",
      "\u001b[1;31mModuleNotFoundError\u001b[0m                       Traceback (most recent call last)",
      "Cell \u001b[1;32mIn[12], line 1\u001b[0m\n\u001b[1;32m----> 1\u001b[0m \u001b[38;5;28;01mfrom\u001b[39;00m \u001b[38;5;21;01mmeu_pacote\u001b[39;00m \u001b[38;5;28;01mimport\u001b[39;00m modulo1, modulo2\n\u001b[0;32m      4\u001b[0m modulo1\u001b[38;5;241m.\u001b[39mfuncao1()\n\u001b[0;32m      5\u001b[0m modulo2\u001b[38;5;241m.\u001b[39mfuncao2()\n",
      "\u001b[1;31mModuleNotFoundError\u001b[0m: No module named 'meu_pacote'"
     ]
    }
   ],
   "source": [
    "from meu_pacote import modulo1, modulo2\n",
    "\n",
    "\n",
    "modulo1.funcao1()\n",
    "modulo2.funcao2()"
   ]
  },
  {
   "cell_type": "markdown",
   "id": "4e267117-3de1-4d66-a575-3c239643daeb",
   "metadata": {},
   "source": [
    "Neste exemplo, são importados os módulos modulo1 e modulo2 do pacote meu_pacote e são utilizadas as funções definidas neles."
   ]
  },
  {
   "cell_type": "markdown",
   "id": "3a29484e-98f6-4c74-8690-facff48ed21e",
   "metadata": {},
   "source": [
    "A importação e criação de módulos e pacotes em Python nos permite organizar e reutilizar nosso código de maneira eficiente. Ao modularizar nosso código, podemos manter um código mais legível, estruturado e fácil de manter.\n",
    "\n",
    "Lembre-se de explorar a biblioteca padrão de Python e aproveitar os módulos existentes, que podem facilitar muitas tarefas comuns. Além disso, não hesite em criar seus próprios módulos e pacotes para organizar e reutilizar seu código de maneira eficaz."
   ]
  }
 ],
 "metadata": {
  "kernelspec": {
   "display_name": "Python 3 (ipykernel)",
   "language": "python",
   "name": "python3"
  },
  "language_info": {
   "codemirror_mode": {
    "name": "ipython",
    "version": 3
   },
   "file_extension": ".py",
   "mimetype": "text/x-python",
   "name": "python",
   "nbconvert_exporter": "python",
   "pygments_lexer": "ipython3",
   "version": "3.8.10"
  }
 },
 "nbformat": 4,
 "nbformat_minor": 5
}
