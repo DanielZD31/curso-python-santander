{
 "cells": [
  {
   "cell_type": "markdown",
   "id": "ea7a982e-9907-4c51-8f66-81a87b6857ce",
   "metadata": {},
   "source": [
    "# Estruturas condicionais\n",
    "\n",
    "As estruturas condicionais nos permitem executar diferentes blocos de código segundo se cumpra ou não \n",
    "uma determinada condição. Em Python, as estruturas condicionais mais utilizadas são if, if-else e if-elif-else."
   ]
  },
  {
   "cell_type": "markdown",
   "id": "e4a51719-73b5-458e-8d57-58aecb0f4932",
   "metadata": {},
   "source": [
    "**IF**\n",
    "A estrutura if é utilizada para executar um bloco de código se uma condição for verdadeira. A sintaxe básica é a seguinte:\n",
    "\n",
    "Exemplo:"
   ]
  },
  {
   "cell_type": "code",
   "execution_count": 2,
   "id": "9b6bcb73-0c1a-43ef-9df9-98cb2e6e41cc",
   "metadata": {},
   "outputs": [
    {
     "name": "stdout",
     "output_type": "stream",
     "text": [
      "Você é maior de idade.\n"
     ]
    }
   ],
   "source": [
    "idade = 18\n",
    "if idade >= 18:\n",
    "    print(\"Você é maior de idade.\")"
   ]
  },
  {
   "cell_type": "markdown",
   "id": "160b351e-7dba-4ca0-80ef-0922793ea9cc",
   "metadata": {},
   "source": [
    "Neste exemplo, se a variável idade for maior ou igual a 18, será executado o bloco de código dentro do if\n",
    "e será impressa a mensagem \"Você é maior de idade.\""
   ]
  },
  {
   "cell_type": "markdown",
   "id": "570279d3-b2bf-4818-9bb0-af0e24c79d7b",
   "metadata": {},
   "source": [
    "**IF-ELSE**\n",
    "A estrutura if-else nos permite especificar um bloco de código alternativo que será executado se a condição do if for falsa. A sintaxe básica é a seguinte:\n",
    "\n",
    "Exemplo"
   ]
  },
  {
   "cell_type": "code",
   "execution_count": 3,
   "id": "b8b57838-3a91-4b33-b0d6-9496fa49fab5",
   "metadata": {},
   "outputs": [
    {
     "name": "stdout",
     "output_type": "stream",
     "text": [
      "Você é menor de idade.\n"
     ]
    }
   ],
   "source": [
    "idade = 15\n",
    "if idade >= 18:\n",
    "    print(\"Você é maior de idade.\")\n",
    "else:\n",
    "    print(\"Você é menor de idade.\")"
   ]
  },
  {
   "cell_type": "markdown",
   "id": "f8b90344-9f15-464b-9eef-38085143545c",
   "metadata": {},
   "source": [
    "Neste exemplo, se a variável idade for maior ou igual a 18, será executado o bloco de código dentro do if e será impressa a mensagem \"Você é maior de idade.\" Caso contrário, será executado o bloco de código dentro do else e será impressa a mensagem \"Você é menor de idade.\""
   ]
  },
  {
   "cell_type": "markdown",
   "id": "e76faf39-f9df-4b0c-9b55-ce2684a59d04",
   "metadata": {},
   "source": [
    "**IF-ELIF-ELSE**\n",
    "\n",
    "A estrutura if-elif-else nos permite especificar múltiplas condições e blocos de código alternativos. A sintaxe básica é a seguinte:\n",
    "\n",
    "Exemplo:"
   ]
  },
  {
   "cell_type": "code",
   "execution_count": null,
   "id": "429fea2d-4115-49ba-bda3-b257cd26cb3d",
   "metadata": {},
   "outputs": [],
   "source": [
    "nota = 85\n",
    "\n",
    "if nota >=90:\n",
    "    print (\"Excelente\")\n",
    "elif nota >= 80:\n",
    "    print (\"Muito bom\")\n",
    "elif nota >"
   ]
  }
 ],
 "metadata": {
  "kernelspec": {
   "display_name": "Python 3 (ipykernel)",
   "language": "python",
   "name": "python3"
  },
  "language_info": {
   "codemirror_mode": {
    "name": "ipython",
    "version": 3
   },
   "file_extension": ".py",
   "mimetype": "text/x-python",
   "name": "python",
   "nbconvert_exporter": "python",
   "pygments_lexer": "ipython3",
   "version": "3.8.10"
  }
 },
 "nbformat": 4,
 "nbformat_minor": 5
}
