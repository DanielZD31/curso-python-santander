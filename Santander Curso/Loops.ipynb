{
 "cells": [
  {
   "cell_type": "markdown",
   "id": "368e37b0-a308-4fc9-a421-820961513fcc",
   "metadata": {},
   "source": [
    "# 3.1. Loops\n",
    "\n",
    "Os loops nos permitem repetir um bloco de código várias vezes. Em Python, os loops mais comuns são for e while."
   ]
  },
  {
   "cell_type": "markdown",
   "id": "8690b67d-cecd-4bb7-8d0e-58a5aacf7d40",
   "metadata": {},
   "source": [
    "**For**\n",
    "O loop for é utilizado para iterar sobre uma sequência (como uma lista, uma tupla ou uma string) ou qualquer objeto iterável. A sintaxe básica é a seguinte:\n",
    "\n",
    "Exemplo:"
   ]
  },
  {
   "cell_type": "code",
   "execution_count": 1,
   "id": "84c8a029-4b80-4323-b509-f83ccc5a9285",
   "metadata": {},
   "outputs": [
    {
     "name": "stdout",
     "output_type": "stream",
     "text": [
      "maçã\n",
      "banana\n",
      "laranja\n"
     ]
    }
   ],
   "source": [
    "frutas = [\"maçã\", \"banana\", \"laranja\"]\n",
    "\n",
    "for fruta in  frutas:\n",
    "    print(fruta)"
   ]
  },
  {
   "cell_type": "markdown",
   "id": "690c7481-889a-48f1-acf5-150fe18e3b13",
   "metadata": {},
   "source": [
    "Neste exemplo, o loop for itera sobre a lista frutas. Em cada iteração, a variável fruta assume o valor de um elemento da lista, e o bloco de código dentro do loop é executado. Neste caso, cada fruta é impressa em uma linha separada."
   ]
  },
  {
   "cell_type": "markdown",
   "id": "05261780-32b1-4c93-bb95-235daffe7c56",
   "metadata": {},
   "source": [
    "**While**\n",
    "\n",
    "O loop while é utilizado para repetir um bloco de código enquanto uma condição for verdadeira. A sintaxe básica é a seguinte:\n",
    "\n",
    "Exemplo:"
   ]
  },
  {
   "cell_type": "code",
   "execution_count": 3,
   "id": "c3ab038f-1712-42a6-9c9b-19fe6d7c45a5",
   "metadata": {},
   "outputs": [
    {
     "name": "stdout",
     "output_type": "stream",
     "text": [
      "0\n",
      "1\n",
      "2\n",
      "3\n",
      "4\n"
     ]
    }
   ],
   "source": [
    "contador = 0\n",
    "\n",
    "while contador < 5:\n",
    "    print(contador)\n",
    "    contador +=1"
   ]
  },
  {
   "cell_type": "markdown",
   "id": "f225e0d2-dfcd-4ad5-8846-8afbe883fec4",
   "metadata": {},
   "source": [
    "Neste exemplo, o loop while é executado enquanto a variável contador for menor que 5. Em cada iteração, o valor de contador é impresso e depois incrementado em 1 pela instrução contador += 1. O loop será interrompido quando contador atingir o valor de 5.\n",
    "\n",
    "É importante ter cuidado ao usar o loop while, pois, se a condição nunca se tornar falsa, o loop será executado indefinidamente, o que é conhecido como um loop infinito."
   ]
  },
  {
   "cell_type": "markdown",
   "id": "61dd103d-711f-496e-86f4-f58bf25f6400",
   "metadata": {},
   "source": [
    "**Controle de loops**\n",
    "\n",
    "Python fornece algumas instruções especiais para controlar o fluxo de execução dentro dos loops:\n",
    "\n",
    "**Break**\n",
    "\n",
    "A instrução break é utilizada para sair prematuramente de um loop, independentemente da condição. Quando um break é encontrado, o loop é interrompido e o fluxo de execução continua com a próxima instrução fora do loop.\n"
   ]
  },
  {
   "cell_type": "code",
   "execution_count": 4,
   "id": "b98d7a01-2f5b-43eb-b7c8-03ada338afbd",
   "metadata": {},
   "outputs": [
    {
     "name": "stdout",
     "output_type": "stream",
     "text": [
      "0\n",
      "1\n",
      "2\n",
      "3\n",
      "4\n"
     ]
    }
   ],
   "source": [
    "contador = 0\n",
    "\n",
    "while True:\n",
    "    print(contador)\n",
    "    contador += 1\n",
    "\n",
    "    if contador == 5:\n",
    "        break"
   ]
  },
  {
   "cell_type": "markdown",
   "id": "b363a04e-5242-4486-99af-90d47b9d4d51",
   "metadata": {},
   "source": [
    "Neste exemplo, o loop while é executado indefinidamente devido à condição True. No entanto, dentro do loop é utilizada uma estrutura condicional if para verificar se contador é igual a 5. Quando essa condição é satisfeita, a instrução break é executada, fazendo com que o loop seja interrompido e o fluxo de execução continue com a próxima instrução fora do loop."
   ]
  },
  {
   "cell_type": "markdown",
   "id": "5d155b55-b7a2-44b6-a0f3-58b3ed8d991b",
   "metadata": {},
   "source": [
    "**Continue**\n",
    "\n",
    "A instrução continue é utilizada para pular o restante do bloco de código dentro de um loop e passar para a próxima iteração.\n",
    "\n",
    "Exemplo:"
   ]
  },
  {
   "cell_type": "code",
   "execution_count": 6,
   "id": "b2c6d8f2-51df-4ce4-abbc-108ccd7d03af",
   "metadata": {},
   "outputs": [
    {
     "name": "stdout",
     "output_type": "stream",
     "text": [
      "1\n",
      "3\n",
      "5\n",
      "7\n",
      "9\n"
     ]
    }
   ],
   "source": [
    "for i in range(10):\n",
    "    if i % 2 == 0:\n",
    "        continue\n",
    "    print(i)"
   ]
  },
  {
   "cell_type": "markdown",
   "id": "72938821-9951-4355-b6fb-32050c083600",
   "metadata": {},
   "source": [
    "Neste exemplo, o loop for itera sobre os números de 0 a 9 utilizando a função range(). Dentro do loop, verifica-se se o número é divisível por 2 utilizando o operador de módulo %. Se o número for divisível por 2 (ou seja, se for par), a instrução continue é executada, fazendo com que o restante do bloco de código seja pulado e passando para a próxima iteração do loop. Como resultado, apenas os números ímpares serão impressos."
   ]
  },
  {
   "cell_type": "markdown",
   "id": "7b7caf7d-ff6e-4d21-acb0-5343d527f73e",
   "metadata": {},
   "source": [
    "**Pass**\n",
    "\n",
    "A instrução pass é uma operação nula que não faz nada. É utilizada como um marcador de posição quando uma instrução é sintaticamente necessária, mas nenhuma ação é desejada.\n",
    "\n",
    "Exemplo:"
   ]
  },
  {
   "cell_type": "code",
   "execution_count": 7,
   "id": "d29e3310-f354-4c2d-af9e-59a83ed2a75a",
   "metadata": {},
   "outputs": [],
   "source": [
    "for i in range(5):\n",
    "    pass"
   ]
  },
  {
   "cell_type": "markdown",
   "id": "2a99fefd-fe4a-439d-afd0-274c0d184f33",
   "metadata": {},
   "source": [
    "Neste exemplo, o loop for itera sobre os números de 0 a 4, mas nenhuma ação é realizada dentro do loop devido à instrução pass. Isso pode ser útil quando se está desenvolvendo um programa e se deseja reservar um bloco de código para implementá-lo mais tarde."
   ]
  }
 ],
 "metadata": {
  "kernelspec": {
   "display_name": "Python 3 (ipykernel)",
   "language": "python",
   "name": "python3"
  },
  "language_info": {
   "codemirror_mode": {
    "name": "ipython",
    "version": 3
   },
   "file_extension": ".py",
   "mimetype": "text/x-python",
   "name": "python",
   "nbconvert_exporter": "python",
   "pygments_lexer": "ipython3",
   "version": "3.8.10"
  }
 },
 "nbformat": 4,
 "nbformat_minor": 5
}
