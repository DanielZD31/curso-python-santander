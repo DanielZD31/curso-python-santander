{
 "cells": [
  {
   "cell_type": "markdown",
   "id": "c5e04e97-b2d0-49c9-a4c8-96926984fef2",
   "metadata": {},
   "source": [
    "# 5. Funções\n",
    "\n",
    "As funções são blocos de código reutilizáveis que nos permitem encapsular tarefas específicas e executá-las quando necessário. As funções nos ajudam a organizar nosso código, evitar a repetição e fazer com que nossos programas sejam mais modulares e fáceis de manter.\n",
    "\n",
    " \n",
    "\n",
    "**Definição e chamada de funções**\n",
    "\n",
    "Para definir uma função em Python, utilizamos a palavra-chave def seguida do nome da função e parênteses. Opcionalmente, podemos especificar parâmetros dentro dos parênteses. O bloco de código da função é indentado após os dois pontos.\n",
    "\n",
    "Para chamar uma função, simplesmente escrevemos o nome da função seguido de parênteses:"
   ]
  },
  {
   "cell_type": "code",
   "execution_count": 1,
   "id": "7dbfb89c-ccb7-428f-8836-d4f0c9b24010",
   "metadata": {},
   "outputs": [
    {
     "name": "stdout",
     "output_type": "stream",
     "text": [
      "Olá, mundo!\n"
     ]
    }
   ],
   "source": [
    "def saudacao():\n",
    "    print(\"Olá, mundo!\")\n",
    "\n",
    "\n",
    "saudacao()  # Imprime \"Olá, mundo!\""
   ]
  },
  {
   "cell_type": "markdown",
   "id": "9605d103-7ec3-43d3-a298-70369014d3e7",
   "metadata": {},
   "source": [
    "**Parâmetros e argumentos**\n",
    "\n",
    "As funções podem aceitar parâmetros, que são valores que são passados para a função quando ela é chamada. Os parâmetros são especificados dentro dos parênteses na definição da função."
   ]
  },
  {
   "cell_type": "code",
   "execution_count": 2,
   "id": "1936f149-ef7a-4265-8ab0-69cc2f2fd7cf",
   "metadata": {},
   "outputs": [],
   "source": [
    "def saudacao(nome):\n",
    "    print(f\"Olá, {nome}!\")"
   ]
  },
  {
   "cell_type": "markdown",
   "id": "2b85672f-17c2-479c-90c5-bf2f808ac4f8",
   "metadata": {},
   "source": [
    "Ao chamar a função, fornecemos os argumentos correspondentes aos parâmetros:"
   ]
  },
  {
   "cell_type": "code",
   "execution_count": 3,
   "id": "63e5a515-a6db-498e-bc27-8bdb68d04459",
   "metadata": {},
   "outputs": [
    {
     "name": "stdout",
     "output_type": "stream",
     "text": [
      "Olá, João!\n",
      "Olá, Maria!\n"
     ]
    }
   ],
   "source": [
    "saudacao(\"João\")  # Imprime \"Olá, João!\"\n",
    "saudacao(\"Maria\")  # Imprime \"Olá, Maria!\""
   ]
  },
  {
   "cell_type": "markdown",
   "id": "0043746b-0f96-4efe-be77-764dabcda07f",
   "metadata": {},
   "source": [
    "**Valores de retorno**\n",
    "\n",
    "As funções podem retornar valores usando a palavra-chave return. O valor de retorno pode ser usado pelo código que chama a função."
   ]
  },
  {
   "cell_type": "code",
   "execution_count": 4,
   "id": "d9d80247-edb5-481d-84b6-65893612d5c0",
   "metadata": {},
   "outputs": [
    {
     "name": "stdout",
     "output_type": "stream",
     "text": [
      "7\n"
     ]
    }
   ],
   "source": [
    "def soma(a, b):\n",
    "    return a + b\n",
    "\n",
    "\n",
    "resultado = soma(3, 4)\n",
    "print(resultado)  # Imprime 7"
   ]
  },
  {
   "cell_type": "markdown",
   "id": "a909f219-9b66-4ea8-8354-6dc5e8df0452",
   "metadata": {},
   "source": [
    "**Funções anônimas (lambda)**\n",
    "\n",
    "Python permite criar funções anônimas ou funções lambda, que são funções sem nome definidas em uma única linha. São comumente usadas para funções pequenas e concisas."
   ]
  },
  {
   "cell_type": "code",
   "execution_count": 5,
   "id": "7194fa8d-fd83-4e9d-ae5f-c1c0a2d1375d",
   "metadata": {},
   "outputs": [
    {
     "name": "stdout",
     "output_type": "stream",
     "text": [
      "25\n"
     ]
    }
   ],
   "source": [
    "quadrado = lambda x: x ** 2\n",
    "print(quadrado(5))  # Imprime 25"
   ]
  },
  {
   "cell_type": "markdown",
   "id": "fc6de1a5-8f4a-42cf-9470-fcfe23b11af0",
   "metadata": {},
   "source": [
    "**Escopo das variáveis (local vs. global)**\n",
    "\n",
    "As variáveis definidas dentro de uma função têm um escopo local, o que significa que só são acessíveis dentro da função. Por outro lado, as variáveis definidas fora de qualquer função têm um escopo global e podem ser acessadas de qualquer parte do programa."
   ]
  },
  {
   "cell_type": "code",
   "execution_count": 6,
   "id": "8eab75e8-f597-4883-8813-fe6733a4c02f",
   "metadata": {},
   "outputs": [
    {
     "name": "stdout",
     "output_type": "stream",
     "text": [
      "10\n",
      "20\n",
      "20\n"
     ]
    },
    {
     "ename": "NameError",
     "evalue": "name 'variavel_local' is not defined",
     "output_type": "error",
     "traceback": [
      "\u001b[1;31m---------------------------------------------------------------------------\u001b[0m",
      "\u001b[1;31mNameError\u001b[0m                                 Traceback (most recent call last)",
      "Cell \u001b[1;32mIn[6], line 16\u001b[0m\n\u001b[0;32m     14\u001b[0m funcao2()  \u001b[38;5;66;03m# Imprime 20\u001b[39;00m\n\u001b[0;32m     15\u001b[0m \u001b[38;5;28mprint\u001b[39m(variavel_global)  \u001b[38;5;66;03m# Imprime 20\u001b[39;00m\n\u001b[1;32m---> 16\u001b[0m \u001b[38;5;28mprint\u001b[39m(\u001b[43mvariavel_local\u001b[49m)  \u001b[38;5;66;03m# Gera um erro, a variável não está definida neste escopo.\u001b[39;00m\n",
      "\u001b[1;31mNameError\u001b[0m: name 'variavel_local' is not defined"
     ]
    }
   ],
   "source": [
    "def funcao():\n",
    "    variavel_local = 10\n",
    "    print(variavel_local)  # Acessível dentro da função\n",
    "\n",
    "\n",
    "variavel_global = 20\n",
    "\n",
    "\n",
    "def funcao2():\n",
    "    print(variavel_global)  # Acessível de qualquer lugar\n",
    "\n",
    "\n",
    "funcao()  # Imprime 10\n",
    "funcao2()  # Imprime 20\n",
    "print(variavel_global)  # Imprime 20\n",
    "print(variavel_local)  # Gera um erro, a variável não está definida neste escopo."
   ]
  },
  {
   "cell_type": "markdown",
   "id": "03765479-a8c9-4361-9072-dca31e769818",
   "metadata": {},
   "source": [
    "**Documentação de funções (docstrings)**\n",
    "\n",
    "É uma boa prática documentar nossas funções utilizando docstrings. Os docstrings são cadeias de texto que descrevem o propósito, os parâmetros e o valor de retorno de uma função. São colocados imediatamente após a definição da função e são encerrados entre aspas duplas triplas."
   ]
  },
  {
   "cell_type": "code",
   "execution_count": 7,
   "id": "e169b410-83c9-43b7-8bd3-08adb0f75917",
   "metadata": {},
   "outputs": [],
   "source": [
    "def area_retangulo(base, altura):\n",
    "    \"\"\"\n",
    "    Calcula a área de um retângulo.\n",
    "\n",
    "\n",
    "    Args:\n",
    "        base (float): A base do retângulo.\n",
    "        altura (float): A altura do retângulo.\n",
    "\n",
    "\n",
    "    Returns:\n",
    "        float: A área do retângulo.\n",
    "    \"\"\"\n",
    "    return base * altura"
   ]
  },
  {
   "cell_type": "markdown",
   "id": "f410c491-1b2a-4deb-be27-53d0621e9cb9",
   "metadata": {},
   "source": [
    "**Funções com número variável de argumentos**\n",
    "\n",
    "Python permite definir funções que aceitem um número variável de argumentos. Isso é feito utilizando o operador * antes do nome do parâmetro."
   ]
  },
  {
   "cell_type": "code",
   "execution_count": 8,
   "id": "784cdaa7-d2d1-4644-bfd6-4c756d4e1974",
   "metadata": {},
   "outputs": [
    {
     "name": "stdout",
     "output_type": "stream",
     "text": [
      "6\n",
      "22\n"
     ]
    }
   ],
   "source": [
    "def soma_variavel(*numeros):\n",
    "    total = 0\n",
    "    for numero in numeros:\n",
    "        total += numero\n",
    "    return total\n",
    "\n",
    "\n",
    "print(soma_variavel(1, 2, 3))  # Imprime 6\n",
    "print(soma_variavel(4, 5, 6, 7))  # Imprime 22"
   ]
  }
 ],
 "metadata": {
  "kernelspec": {
   "display_name": "Python 3 (ipykernel)",
   "language": "python",
   "name": "python3"
  },
  "language_info": {
   "codemirror_mode": {
    "name": "ipython",
    "version": 3
   },
   "file_extension": ".py",
   "mimetype": "text/x-python",
   "name": "python",
   "nbconvert_exporter": "python",
   "pygments_lexer": "ipython3",
   "version": "3.8.10"
  }
 },
 "nbformat": 4,
 "nbformat_minor": 5
}
