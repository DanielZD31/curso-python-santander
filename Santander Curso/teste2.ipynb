{
 "cells": [
  {
   "cell_type": "markdown",
   "id": "afe0efa9-fbfe-4443-b289-016d95df59ca",
   "metadata": {},
   "source": [
    "Qual palavra-chave é usada para capturar e tratar exceções?\n",
    "\n",
    "R: a) try"
   ]
  },
  {
   "cell_type": "markdown",
   "id": "c89a90e5-3608-492f-a4f5-d8efa6e2600f",
   "metadata": {},
   "source": [
    "Qual a forma correta de abrir um arquivo no modo de escrita?\n",
    "\n",
    "R: b) arquivo = ​open​​ ​( \"arquivo.txt\", \"w\")"
   ]
  },
  {
   "cell_type": "markdown",
   "id": "b73c4e9e-28c1-4a23-9541-6123e7593deb",
   "metadata": {},
   "source": [
    " Qual método é usado para adicionar um elemento ao final de uma lista? \n",
    "\n",
    " R: a) append()"
   ]
  },
  {
   "cell_type": "markdown",
   "id": "3e25b65b-292d-40e8-b82d-cbd4abe08b26",
   "metadata": {},
   "source": [
    "Qual é o objetivo principal do método append ( ) em uma lista Python?\n",
    "\n",
    "R: b) Adicion​ar​​ ​ um elemento ao final da lista"
   ]
  },
  {
   "cell_type": "markdown",
   "id": "f1e82c74-1d1f-40d7-a826-9813966fab0f",
   "metadata": {},
   "source": [
    "Qual afirmação é verdadeira sobre exceções?\n",
    "\n",
    "R: c) Exceções são utilizadas para tratar erros e situações excepcionais no programa."
   ]
  },
  {
   "cell_type": "markdown",
   "id": "a25e8f2f-4a3a-4c97-951b-258a32e0cc8c",
   "metadata": {},
   "source": [
    "Qual é a diferença entre uma variável local e uma variável global?\n",
    "\n",
    "R: a) Variáveis locais só podem ser acessadas dentro de uma função, enquanto variáveis globais podem ser acessadas de qualquer lugar do programa."
   ]
  },
  {
   "cell_type": "markdown",
   "id": "1ee3a949-9433-43ab-ba8c-ff7c991534b4",
   "metadata": {},
   "source": [
    "Qual é o propósito da palavra-chave “with” ao trabalhar com arquivos?\n",
    "\n",
    "R: b) Fecha​ ​ automaticamente o arquivo após o uso."
   ]
  },
  {
   "cell_type": "markdown",
   "id": "76d042cf-bb10-48dd-ad63-4fa06213d240",
   "metadata": {},
   "source": [
    "Qual é o resultado da seguinte expressão em Python?\n",
    "\n",
    "(não verdadeiro) ou (falso e verdadeiro) \n",
    "\n",
    "R: b) False"
   ]
  },
  {
   "cell_type": "markdown",
   "id": "bdfb1a7f-24e2-4275-b850-05922fb5c615",
   "metadata": {},
   "source": [
    "Qual é a diferença entre uma tupla e uma lista em Python?\n",
    "\n",
    "R: b) As tuplas são imutáveis, enquanto as listas são mutáveis."
   ]
  },
  {
   "cell_type": "code",
   "execution_count": 1,
   "id": "02eee5f5-0b33-465a-a8a1-fd5e652ebed0",
   "metadata": {},
   "outputs": [
    {
     "name": "stdout",
     "output_type": "stream",
     "text": [
      "Object `Python` not found.\n",
      "8\n"
     ]
    }
   ],
   "source": [
    "Qual é a saída do código a seguir em Python?\n",
    "\n",
    "x = 5\n",
    "y = \"3\"\n",
    "z = x + int(y)\n",
    "print(z)"
   ]
  },
  {
   "cell_type": "markdown",
   "id": "91194a82-1981-40db-808f-54e052ca3c50",
   "metadata": {},
   "source": [
    "R: b) 8"
   ]
  }
 ],
 "metadata": {
  "kernelspec": {
   "display_name": "Python 3 (ipykernel)",
   "language": "python",
   "name": "python3"
  },
  "language_info": {
   "codemirror_mode": {
    "name": "ipython",
    "version": 3
   },
   "file_extension": ".py",
   "mimetype": "text/x-python",
   "name": "python",
   "nbconvert_exporter": "python",
   "pygments_lexer": "ipython3",
   "version": "3.8.10"
  }
 },
 "nbformat": 4,
 "nbformat_minor": 5
}
