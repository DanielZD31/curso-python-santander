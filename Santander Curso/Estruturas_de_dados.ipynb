{
 "cells": [
  {
   "cell_type": "markdown",
   "id": "566346b4-25bf-49a3-bffd-df692ebc602d",
   "metadata": {},
   "source": [
    "# 4. Estruturas de dados\n",
    "\n",
    "As estruturas de dados nos permitem organizar e armazenar dados de maneira eficiente em nossos programas. Python fornece várias estruturas de dados integradas, como listas, tuplas, dicionários e conjuntos, cada uma com suas próprias características e usos."
   ]
  },
  {
   "cell_type": "markdown",
   "id": "3bb1f9a3-7516-4dd8-b7ae-528da734e2a9",
   "metadata": {},
   "source": [
    "**Listas**\n",
    "\n",
    "Uma lista é uma estrutura de dados mutável e ordenada que permite armazenar uma coleção de elementos. Os elementos de uma lista podem ser de diferentes tipos de dados e são encerrados entre colchetes [], separados por vírgulas.\n",
    "\n",
    "**Criação e acesso**\n",
    "\n",
    "Para criar uma lista, simplesmente encerre os elementos entre colchetes:\n"
   ]
  },
  {
   "cell_type": "code",
   "execution_count": 1,
   "id": "72551cc1-6322-4e3a-a331-4b7ef795996d",
   "metadata": {},
   "outputs": [],
   "source": [
    "frutas = [\"maçã\",\"banana\",\"laranja\"]"
   ]
  },
  {
   "cell_type": "markdown",
   "id": "e0011d2a-62b2-474b-88bb-9977fcc433a4",
   "metadata": {},
   "source": [
    "Para acessar os elementos de uma lista, utilize o índice do elemento entre colchetes. Os índices começam a partir de 0."
   ]
  },
  {
   "cell_type": "code",
   "execution_count": 2,
   "id": "3f2c7800-0c5d-4e12-a45f-fa1fa2d22b42",
   "metadata": {},
   "outputs": [
    {
     "name": "stdout",
     "output_type": "stream",
     "text": [
      "maçã\n",
      "banana\n",
      "laranja\n"
     ]
    }
   ],
   "source": [
    "print(frutas[0]) #imprime \"maçã\"\n",
    "print(frutas[1]) #imprime \"banana\"\n",
    "print(frutas[2]) #imprime \"laranja\""
   ]
  },
  {
   "cell_type": "markdown",
   "id": "01cf6b46-7494-43ba-bf50-c59c9c52e7ed",
   "metadata": {},
   "source": [
    "Você também pode acessar os elementos a partir do final da lista utilizando índices negativos. O índice -1 representa o último elemento, -2 representa o penúltimo, e assim por diante."
   ]
  },
  {
   "cell_type": "code",
   "execution_count": 3,
   "id": "ebadd6cb-93b1-4c78-aac0-988609d6953e",
   "metadata": {},
   "outputs": [
    {
     "name": "stdout",
     "output_type": "stream",
     "text": [
      "laranja\n",
      "banana\n",
      "maçã\n"
     ]
    }
   ],
   "source": [
    "print(frutas[-1]) #imprime \"laranja\"\n",
    "print(frutas[-2]) #imprime \"banana\"\n",
    "print(frutas[-3]) #imprime \"maçã\""
   ]
  },
  {
   "cell_type": "markdown",
   "id": "aca108a8-e631-4d76-9547-b45bd0560797",
   "metadata": {},
   "source": [
    "**Métodos de listas**\n",
    "\n",
    "As listas em Python têm vários métodos incorporados que nos permitem manipular e modificar os elementos da lista. Alguns métodos comuns são:\n",
    "\n",
    "append(elemento): adiciona um elemento ao final da lista.\n",
    "insert(indice, elemento): insere um elemento em uma posição específica da lista.\n",
    "remove(elemento): remove a primeira ocorrência de um elemento na lista.\n",
    "pop(indice): remove e retorna o elemento em uma posição específica da lista.\n",
    "sort(): ordena os elementos da lista em ordem ascendente.\n",
    "reverse(): inverte a ordem dos elementos na lista.\n",
    "Exemplo:"
   ]
  },
  {
   "cell_type": "code",
   "execution_count": 4,
   "id": "08383b5a-6c19-4908-9768-2f480ca3454f",
   "metadata": {},
   "outputs": [
    {
     "name": "stdout",
     "output_type": "stream",
     "text": [
      "['maçã', 'banana', 'laranja', 'pera']\n",
      "['maçã', 'uva', 'banana', 'laranja', 'pera']\n",
      "['maçã', 'uva', 'laranja', 'pera']\n",
      "['maçã', 'uva', 'pera']\n",
      "laranja\n",
      "['maçã', 'pera', 'uva']\n",
      "['uva', 'pera', 'maçã']\n"
     ]
    }
   ],
   "source": [
    "frutas = [\"maçã\",\"banana\",\"laranja\"]\n",
    "\n",
    "frutas.append(\"pera\")\n",
    "print(frutas)  # Imprime [\"maçã\", \"banana\", \"laranja\", \"pera\"]\n",
    "\n",
    "\n",
    "frutas.insert(1, \"uva\")\n",
    "print(frutas)  # Imprime [\"maçã\", \"uva\", \"banana\", \"laranja\", \"pera\"]\n",
    "\n",
    "\n",
    "frutas.remove(\"banana\")\n",
    "print(frutas)  # Imprime [\"maçã\", \"uva\", \"laranja\", \"pera\"]\n",
    "\n",
    "\n",
    "fruta_removida = frutas.pop(2)\n",
    "print(frutas)  # Imprime [\"maçã\", \"uva\", \"pera\"]\n",
    "print(fruta_removida)  # Imprime \"laranja\"\n",
    "\n",
    "\n",
    "frutas.sort()\n",
    "print(frutas)  # Imprime [\"maçã\", \"pera\", \"uva\"]\n",
    "\n",
    "\n",
    "frutas.reverse()\n",
    "print(frutas)  # Imprime [\"uva\", \"pera\", \"maçã\"]"
   ]
  },
  {
   "cell_type": "markdown",
   "id": "6d2f5f30-b621-4f98-b7e6-3efd73ed695e",
   "metadata": {},
   "source": [
    "**Listas de compreensão**\n",
    "\n",
    "As listas de compreensão são uma forma concisa de criar novas listas baseadas em uma sequência existente. Permitem filtrar e transformar os elementos de uma lista em uma única linha de código."
   ]
  },
  {
   "cell_type": "raw",
   "id": "a755a4e9-7512-4fa6-aa08-0672c16ab077",
   "metadata": {},
   "source": [
    "nova_lista = [expressão for elemento in sequência if condição]\n",
    "\n",
    "Exemplo:"
   ]
  },
  {
   "cell_type": "raw",
   "id": "6207b32a-e534-44b7-aed3-c46c91bd8f41",
   "metadata": {},
   "source": [
    "número = [1, 2, 3, 4, 5]\n",
    "quadrados = [X ** 2 for x in números if x % 2 == 0]\n",
    "print(quadrados) #Imprime [4, 16]"
   ]
  },
  {
   "cell_type": "markdown",
   "id": "6c342a91-37f6-4765-b477-2f63c609a07e",
   "metadata": {},
   "source": [
    "Neste exemplo, é criada uma nova lista chamada quadrados, que contém os quadrados dos números pares da lista números. A expressão x ** 2 eleva cada elemento ao quadrado, e a condição if x % 2 == 0 filtra apenas os números pares."
   ]
  }
 ],
 "metadata": {
  "kernelspec": {
   "display_name": "Python 3 (ipykernel)",
   "language": "python",
   "name": "python3"
  },
  "language_info": {
   "codemirror_mode": {
    "name": "ipython",
    "version": 3
   },
   "file_extension": ".py",
   "mimetype": "text/x-python",
   "name": "python",
   "nbconvert_exporter": "python",
   "pygments_lexer": "ipython3",
   "version": "3.8.10"
  }
 },
 "nbformat": 4,
 "nbformat_minor": 5
}
