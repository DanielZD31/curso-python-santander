{
 "cells": [
  {
   "cell_type": "markdown",
   "id": "a3d65321-a46b-4dfb-b9a9-583d0ef1b2b6",
   "metadata": {},
   "source": [
    "# 7. Entradas/saídas\n",
    "\n",
    "Em Python, a entrada e saída de dados nos permite interagir com o usuário e manipular arquivos. Podemos solicitar informações ao usuário, mostrar resultados na tela e ler ou escrever dados em arquivos externos.\n",
    "\n",
    " \n",
    "\n",
    "**Entrada de dados do usuário**\n",
    "\n",
    "Para obter informações do usuário durante a execução do programa, podemos utilizar a função input(). Esta função mostra uma mensagem na tela e espera que o usuário insira um valor."
   ]
  },
  {
   "cell_type": "code",
   "execution_count": 1,
   "id": "15af12b0-8b1c-413d-b533-5579d4f8ac7d",
   "metadata": {},
   "outputs": [
    {
     "name": "stdin",
     "output_type": "stream",
     "text": [
      "Insira seu nome:  Daniel\n",
      "Insira sua idade:  21\n"
     ]
    },
    {
     "name": "stdout",
     "output_type": "stream",
     "text": [
      "Olá, Daniel!\n",
      "Você tem 21 anos.\n"
     ]
    }
   ],
   "source": [
    "nome = input(\"Insira seu nome: \")\n",
    "idade = input(\"Insira sua idade: \")\n",
    "\n",
    "\n",
    "print(\"Olá, \" + nome + \"!\")\n",
    "print(\"Você tem \" + idade + \" anos.\")"
   ]
  },
  {
   "cell_type": "markdown",
   "id": "de25cf18-d75e-45a8-b0ed-d5be8db2aa47",
   "metadata": {},
   "source": [
    "Neste exemplo, solicita-se ao usuário que insira seu nome e idade utilizando a função input(). Os valores inseridos são armazenados nas variáveis nome e idade, respectivamente. Em seguida, essas variáveis são utilizadas para mostrar uma saudação personalizada na tela."
   ]
  },
  {
   "cell_type": "markdown",
   "id": "91f9da75-1d5c-4137-9254-143a396b7fd5",
   "metadata": {},
   "source": [
    "# Importante\n",
    "\n",
    "**A função input() sempre retorna uma cadeia de texto. Se você deseja trabalhar com outros tipos de dados, como números inteiros ou flutuantes, deve realizar uma conversão explícita utilizando funções como int() ou float().**"
   ]
  },
  {
   "cell_type": "code",
   "execution_count": 3,
   "id": "4c2b583f-1acb-483c-b0ad-ba6efa4bd0a3",
   "metadata": {},
   "outputs": [
    {
     "name": "stdin",
     "output_type": "stream",
     "text": [
      "Insira sua idade:  21\n"
     ]
    },
    {
     "name": "stdout",
     "output_type": "stream",
     "text": [
      "Você é maior de idade.\n"
     ]
    }
   ],
   "source": [
    "idade = int(input(\"Insira sua idade: \"))\n",
    "\n",
    "\n",
    "if idade >= 18:\n",
    "    print(\"Você é maior de idade.\")\n",
    "else:\n",
    "    print(\"Você é menor de idade.\")"
   ]
  },
  {
   "cell_type": "markdown",
   "id": "f6ddac69-b5f2-4259-ac55-8b1a00f5ac48",
   "metadata": {},
   "source": [
    "Neste exemplo, solicita-se ao usuário que insira sua idade e converte o valor inserido para um número inteiro utilizando int(). Em seguida, utiliza-se uma estrutura condicional para verificar se a idade é maior ou igual a 18 e mostrar uma mensagem correspondente."
   ]
  },
  {
   "cell_type": "markdown",
   "id": "2e8c3790-6ba4-49a0-b295-5f08992e04e2",
   "metadata": {},
   "source": [
    "**Saída de dados**\n",
    "\n",
    "Para mostrar informações na tela, utilizamos a função print(). Esta função recebe um ou mais argumentos e os mostra no console.\n",
    "\n",
    "Podemos utilizar a f-string (formatação de cadeias) para inserir variáveis diretamente dentro de uma cadeia de texto."
   ]
  },
  {
   "cell_type": "code",
   "execution_count": 4,
   "id": "15c57e60-c3a9-47d9-a381-8963348a1f10",
   "metadata": {},
   "outputs": [
    {
     "name": "stdout",
     "output_type": "stream",
     "text": [
      "Olá, meu nome é Juan e tenho 25 anos.\n"
     ]
    }
   ],
   "source": [
    "nome = \"Juan\"\n",
    "idade = 25\n",
    "\n",
    "\n",
    "print(f\"Olá, meu nome é {nome} e tenho {idade} anos.\")"
   ]
  },
  {
   "cell_type": "markdown",
   "id": "e140beba-59e7-4ea5-9dfb-ea37d32a3434",
   "metadata": {},
   "source": [
    "Neste caso, as variáveis são inseridas dentro da cadeia utilizando chaves {} e a cadeia é precedida pela letra f para indicar que é uma f-string.\n",
    "\n",
    " "
   ]
  },
  {
   "cell_type": "markdown",
   "id": "3a42c5f9-6664-485f-aeb9-8ebd2e3af952",
   "metadata": {},
   "source": [
    "# 7.1. Leitura e escrita de arquivos\n",
    "\n",
    "Python nos permite ler e escrever dados em arquivos externos. Podemos abrir arquivos em diferentes modos, como leitura (\"r\"), escrita (\"w\") ou anexar (\"a\"), e realizar operações de leitura e escrita.\n",
    "\n",
    " \n",
    "**Leitura de arquivos**\n",
    "\n",
    "Para ler o conteúdo de um arquivo, primeiro devemos abri-lo utilizando a função open() em modo de leitura (\"r\"). Depois, podemos ler o conteúdo do arquivo utilizando métodos como read() ou readlines()."
   ]
  },
  {
   "cell_type": "code",
   "execution_count": 5,
   "id": "8065847d-35af-4ec0-be27-0cf49ad30653",
   "metadata": {},
   "outputs": [
    {
     "ename": "FileNotFoundError",
     "evalue": "[Errno 2] No such file or directory: 'dados.txt'",
     "output_type": "error",
     "traceback": [
      "\u001b[1;31m---------------------------------------------------------------------------\u001b[0m",
      "\u001b[1;31mFileNotFoundError\u001b[0m                         Traceback (most recent call last)",
      "Cell \u001b[1;32mIn[5], line 1\u001b[0m\n\u001b[1;32m----> 1\u001b[0m arquivo \u001b[38;5;241m=\u001b[39m \u001b[38;5;28;43mopen\u001b[39;49m\u001b[43m(\u001b[49m\u001b[38;5;124;43m\"\u001b[39;49m\u001b[38;5;124;43mdados.txt\u001b[39;49m\u001b[38;5;124;43m\"\u001b[39;49m\u001b[43m,\u001b[49m\u001b[43m \u001b[49m\u001b[38;5;124;43m\"\u001b[39;49m\u001b[38;5;124;43mr\u001b[39;49m\u001b[38;5;124;43m\"\u001b[39;49m\u001b[43m)\u001b[49m\n\u001b[0;32m      2\u001b[0m conteudo \u001b[38;5;241m=\u001b[39m arquivo\u001b[38;5;241m.\u001b[39mread()\n\u001b[0;32m      3\u001b[0m \u001b[38;5;28mprint\u001b[39m(conteudo)\n",
      "File \u001b[1;32m~\\AppData\\Roaming\\Python\\Python38\\site-packages\\IPython\\core\\interactiveshell.py:284\u001b[0m, in \u001b[0;36m_modified_open\u001b[1;34m(file, *args, **kwargs)\u001b[0m\n\u001b[0;32m    277\u001b[0m \u001b[38;5;28;01mif\u001b[39;00m file \u001b[38;5;129;01min\u001b[39;00m {\u001b[38;5;241m0\u001b[39m, \u001b[38;5;241m1\u001b[39m, \u001b[38;5;241m2\u001b[39m}:\n\u001b[0;32m    278\u001b[0m     \u001b[38;5;28;01mraise\u001b[39;00m \u001b[38;5;167;01mValueError\u001b[39;00m(\n\u001b[0;32m    279\u001b[0m         \u001b[38;5;124mf\u001b[39m\u001b[38;5;124m\"\u001b[39m\u001b[38;5;124mIPython won\u001b[39m\u001b[38;5;124m'\u001b[39m\u001b[38;5;124mt let you open fd=\u001b[39m\u001b[38;5;132;01m{\u001b[39;00mfile\u001b[38;5;132;01m}\u001b[39;00m\u001b[38;5;124m by default \u001b[39m\u001b[38;5;124m\"\u001b[39m\n\u001b[0;32m    280\u001b[0m         \u001b[38;5;124m\"\u001b[39m\u001b[38;5;124mas it is likely to crash IPython. If you know what you are doing, \u001b[39m\u001b[38;5;124m\"\u001b[39m\n\u001b[0;32m    281\u001b[0m         \u001b[38;5;124m\"\u001b[39m\u001b[38;5;124myou can use builtins\u001b[39m\u001b[38;5;124m'\u001b[39m\u001b[38;5;124m open.\u001b[39m\u001b[38;5;124m\"\u001b[39m\n\u001b[0;32m    282\u001b[0m     )\n\u001b[1;32m--> 284\u001b[0m \u001b[38;5;28;01mreturn\u001b[39;00m \u001b[43mio_open\u001b[49m\u001b[43m(\u001b[49m\u001b[43mfile\u001b[49m\u001b[43m,\u001b[49m\u001b[43m \u001b[49m\u001b[38;5;241;43m*\u001b[39;49m\u001b[43margs\u001b[49m\u001b[43m,\u001b[49m\u001b[43m \u001b[49m\u001b[38;5;241;43m*\u001b[39;49m\u001b[38;5;241;43m*\u001b[39;49m\u001b[43mkwargs\u001b[49m\u001b[43m)\u001b[49m\n",
      "\u001b[1;31mFileNotFoundError\u001b[0m: [Errno 2] No such file or directory: 'dados.txt'"
     ]
    }
   ],
   "source": [
    "arquivo = open(\"dados.txt\", \"r\")\n",
    "conteudo = arquivo.read()\n",
    "print(conteudo)\n",
    "arquivo.close()"
   ]
  },
  {
   "cell_type": "markdown",
   "id": "d415aef6-6160-45c6-b885-892fed3173d3",
   "metadata": {},
   "source": [
    "Neste exemplo, o arquivo \"dados.txt\" é aberto em modo de leitura utilizando open(). Depois, todo o conteúdo do arquivo é lido utilizando o método read() e armazenado na variável conteudo. Finalmente, o conteúdo é mostrado na tela e o arquivo é fechado utilizando o método close().\n",
    "\n",
    " \n",
    "\n",
    "**Escrita de arquivos**\n",
    "\n",
    "Para escrever dados em um arquivo, abrimos em modo de escrita (\"w\") utilizando a função open(). Se o arquivo não existir, será criado automaticamente. Se o arquivo já existir, seu conteúdo será sobrescrito."
   ]
  },
  {
   "cell_type": "code",
   "execution_count": 6,
   "id": "28f81947-bdbd-4310-ab69-ca19bc7cc6fc",
   "metadata": {},
   "outputs": [],
   "source": [
    "arquivo = open(\"dados.txt\", \"w\")\n",
    "arquivo.write(\"Olá, mundo!\")\n",
    "arquivo.close()"
   ]
  },
  {
   "cell_type": "markdown",
   "id": "e38ddc97-7a53-4b92-afff-e17079d9df7d",
   "metadata": {},
   "source": [
    "Neste exemplo, o arquivo \"dados.txt\" é aberto em modo de escrita utilizando open(). Depois, a string \"Olá, mundo!\" é escrita no arquivo utilizando o método write(). Finalmente, o arquivo é fechado utilizando o método close()."
   ]
  },
  {
   "cell_type": "markdown",
   "id": "76d54b6c-4176-4b27-a6ea-7498ef3f578f",
   "metadata": {},
   "source": [
    "# Importante\n",
    "\n",
    "**É importante fechar sempre os arquivos depois de utilizá-los para liberar os recursos do sistema.**"
   ]
  },
  {
   "cell_type": "markdown",
   "id": "1ea868f6-1135-417a-9dad-97e962c03e4e",
   "metadata": {},
   "source": [
    "Você também pode utilizar a declaração with para manejar a abertura e fechamento de arquivos de maneira automática."
   ]
  },
  {
   "cell_type": "code",
   "execution_count": 7,
   "id": "6b523b11-f3ab-45ab-9be0-6f6a98c4b2d1",
   "metadata": {},
   "outputs": [
    {
     "name": "stdout",
     "output_type": "stream",
     "text": [
      "Olá, mundo!\n"
     ]
    }
   ],
   "source": [
    "with open(\"dados.txt\", \"r\") as arquivo:\n",
    "    conteudo = arquivo.read()\n",
    "    print(conteudo)"
   ]
  },
  {
   "cell_type": "markdown",
   "id": "75f21cce-81eb-4eec-a9fe-3d5cd3dea460",
   "metadata": {},
   "source": [
    "Neste caso, o arquivo é aberto utilizando a declaração with e é fechado automaticamente uma vez que se sai do bloco with, mesmo se ocorrer uma exceção."
   ]
  },
  {
   "cell_type": "markdown",
   "id": "5c76176d-6721-4230-bbc5-4dd81e7d5478",
   "metadata": {},
   "source": [
    "A entrada e saída de dados em Python nos oferece uma grande flexibilidade para interagir com o usuário e manipular arquivos externos. Podemos solicitar informações ao usuário, mostrar resultados na tela e ler ou escrever dados em arquivos de texto. Lembre-se sempre de manejar adequadamente a abertura e fechamento de arquivos, e considerar as possíveis exceções que podem ocorrer durante as operações de entrada/saída."
   ]
  }
 ],
 "metadata": {
  "kernelspec": {
   "display_name": "Python 3 (ipykernel)",
   "language": "python",
   "name": "python3"
  },
  "language_info": {
   "codemirror_mode": {
    "name": "ipython",
    "version": 3
   },
   "file_extension": ".py",
   "mimetype": "text/x-python",
   "name": "python",
   "nbconvert_exporter": "python",
   "pygments_lexer": "ipython3",
   "version": "3.8.10"
  }
 },
 "nbformat": 4,
 "nbformat_minor": 5
}
