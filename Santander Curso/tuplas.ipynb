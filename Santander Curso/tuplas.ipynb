{
 "cells": [
  {
   "cell_type": "markdown",
   "id": "98bfa107-0ed9-4a35-b4df-803a2485c898",
   "metadata": {},
   "source": [
    "# 4.1. Tuplas\n",
    "\n",
    "Uma tupla é uma estrutura de dados imutável e ordenada que permite armazenar uma coleção de elementos. Os elementos de uma tupla são encerrados entre parênteses (), separados por vírgulas.\n",
    "\n",
    "**Criação e acesso**\n",
    "Para criar uma tupla, encerre os elementos entre parênteses:"
   ]
  },
  {
   "cell_type": "code",
   "execution_count": 2,
   "id": "70a9ab30-c76c-43a8-8473-f383a107f525",
   "metadata": {},
   "outputs": [],
   "source": [
    "ponto = (3,4)"
   ]
  },
  {
   "cell_type": "markdown",
   "id": "48c72dfd-f083-4295-a21e-ca1ae27f34f1",
   "metadata": {},
   "source": [
    "Para acessar os elementos de uma tupla, utilize o índice do elemento entre colchetes, similar às listas:"
   ]
  },
  {
   "cell_type": "code",
   "execution_count": 3,
   "id": "61680dde-042f-45fd-840f-06219e21d7ee",
   "metadata": {},
   "outputs": [
    {
     "name": "stdout",
     "output_type": "stream",
     "text": [
      "3\n",
      "4\n"
     ]
    }
   ],
   "source": [
    "print(ponto[0])  # Imprime 3\n",
    "\n",
    "print(ponto[1])  # Imprime 4"
   ]
  },
  {
   "cell_type": "markdown",
   "id": "f6b21816-c8ee-4d8b-878a-2d892ac18146",
   "metadata": {},
   "source": [
    "Ao contrário das listas, as tuplas são imutáveis, o que significa que não podem ser modificadas uma vez criadas. Não se pode adicionar, eliminar ou alterar elementos em uma tupla existente.\n",
    "\n",
    "As tuplas são úteis quando você precisa armazenar uma coleção de elementos que não devem ser modificados, como coordenadas ou dados de configuração.\n",
    "\n",
    " \n",
    "\n",
    "**Métodos de tuplas**\n",
    "Embora as tuplas sejam imutáveis, Python fornece vários métodos úteis para trabalhar com elas:\n",
    "\n",
    "count(elemento): devolve o número de vezes que um elemento aparece na tupla. \n",
    "index(elemento): devolve o índice da primeira aparição de um elemento na tupla. Opcionalmente, pode-se especificar o início e fim da busca. \n",
    "len(tupla): embora não seja um método de tupla propriamente dito, esta função incorporada devolve o comprimento da tupla."
   ]
  },
  {
   "cell_type": "code",
   "execution_count": 4,
   "id": "5950abfd-e29b-4fdb-8f5c-b94c858935d9",
   "metadata": {},
   "outputs": [
    {
     "name": "stdout",
     "output_type": "stream",
     "text": [
      "1\n",
      "3\n",
      "3\n"
     ]
    }
   ],
   "source": [
    "minha_tupla = (1, 2, 3, 2, 4, 2)\n",
    "\n",
    "\n",
    "print (minha_tupla.index(2))   # Saída: 1\n",
    "\n",
    "print (minha_tupla.index(2, 2))   #Saída: 3\n",
    "\n",
    "print (minha_tupla.index(2, 2, 4))   #Saída: 3"
   ]
  }
 ],
 "metadata": {
  "kernelspec": {
   "display_name": "Python 3 (ipykernel)",
   "language": "python",
   "name": "python3"
  },
  "language_info": {
   "codemirror_mode": {
    "name": "ipython",
    "version": 3
   },
   "file_extension": ".py",
   "mimetype": "text/x-python",
   "name": "python",
   "nbconvert_exporter": "python",
   "pygments_lexer": "ipython3",
   "version": "3.8.10"
  }
 },
 "nbformat": 4,
 "nbformat_minor": 5
}
