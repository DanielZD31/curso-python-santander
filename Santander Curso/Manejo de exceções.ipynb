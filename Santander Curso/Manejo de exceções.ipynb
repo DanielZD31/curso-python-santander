{
 "cells": [
  {
   "cell_type": "markdown",
   "id": "cb9b7e41-a642-4b16-9999-eccdfcf06a4b",
   "metadata": {},
   "source": [
    "# 6.1. Manejo de exceções\n",
    "\n",
    "O manejo de exceções nos permite capturar e lidar com erros de maneira controlada utilizando as declarações try, except e opcionalmente finally.\n",
    "\n",
    " \n",
    "\n",
    "**Try**\n",
    "\n",
    "O bloco try contém o código que pode gerar uma exceção. Se ocorrer uma exceção dentro do bloco try, o fluxo de execução é transferido para o bloco except correspondente."
   ]
  },
  {
   "cell_type": "code",
   "execution_count": 1,
   "id": "e69f1bc7-30e9-4617-a3bf-f9663fc37deb",
   "metadata": {},
   "outputs": [
    {
     "name": "stdout",
     "output_type": "stream",
     "text": [
      "Erro: Divisão por zero\n"
     ]
    }
   ],
   "source": [
    "try:\n",
    "    # Código que pode gerar uma exceção\n",
    "    resultado = 10 / 0  # Divisão por zero\n",
    "    print(resultado)\n",
    "except ZeroDivisionError:\n",
    "    print(\"Erro: Divisão por zero\")"
   ]
  },
  {
   "cell_type": "markdown",
   "id": "67b0c0a3-0462-4cdc-bf8a-d84dee938372",
   "metadata": {},
   "source": [
    "**Except**\n",
    "\n",
    "O bloco except especifica o tipo de exceção que se deseja capturar e lidar. Você pode ter múltiplos blocos except para lidar com diferentes tipos de exceções."
   ]
  },
  {
   "cell_type": "code",
   "execution_count": 2,
   "id": "685bc348-4a70-4125-9031-f15e6ed97ce4",
   "metadata": {},
   "outputs": [
    {
     "name": "stdout",
     "output_type": "stream",
     "text": [
      "Erro: Divisão por zero\n"
     ]
    }
   ],
   "source": [
    "try:\n",
    "    # Código que pode gerar uma exceção\n",
    "    resultado = 10 / 0  # Divisão por zero\n",
    "    print(resultado)\n",
    "except ZeroDivisionError:\n",
    "    print(\"Erro: Divisão por zero\")\n",
    "except ValueError:\n",
    "    print(\"Erro: Valor inválido\")"
   ]
  },
  {
   "cell_type": "markdown",
   "id": "cb1e0d91-9c90-43fc-8532-e5fe3cb58d19",
   "metadata": {},
   "source": [
    "**Finally**\n",
    "\n",
    "O bloco finally é opcional e é executado sempre, independentemente de ter ocorrido uma exceção ou não. É comumente utilizado para realizar tarefas de limpeza ou liberação de recursos."
   ]
  },
  {
   "cell_type": "code",
   "execution_count": 3,
   "id": "3a57dbfb-c323-484c-83ae-6ff2b652655b",
   "metadata": {},
   "outputs": [
    {
     "name": "stdout",
     "output_type": "stream",
     "text": [
      "Erro: Arquivo não encontrado\n"
     ]
    },
    {
     "ename": "NameError",
     "evalue": "name 'arquivo' is not defined",
     "output_type": "error",
     "traceback": [
      "\u001b[1;31m---------------------------------------------------------------------------\u001b[0m",
      "\u001b[1;31mNameError\u001b[0m                                 Traceback (most recent call last)",
      "Cell \u001b[1;32mIn[3], line 8\u001b[0m\n\u001b[0;32m      6\u001b[0m     \u001b[38;5;28mprint\u001b[39m(\u001b[38;5;124m\"\u001b[39m\u001b[38;5;124mErro: Arquivo não encontrado\u001b[39m\u001b[38;5;124m\"\u001b[39m)\n\u001b[0;32m      7\u001b[0m \u001b[38;5;28;01mfinally\u001b[39;00m:\n\u001b[1;32m----> 8\u001b[0m     \u001b[43marquivo\u001b[49m\u001b[38;5;241m.\u001b[39mclose()  \u001b[38;5;66;03m# Fechar o arquivo sempre, mesmo se ocorrer uma exceção\u001b[39;00m\n",
      "\u001b[1;31mNameError\u001b[0m: name 'arquivo' is not defined"
     ]
    }
   ],
   "source": [
    "try:\n",
    "    # Código que pode gerar uma exceção\n",
    "    arquivo = open(\"arquivo.txt\", \"r\")\n",
    "    # Realizar operações com o arquivo\n",
    "except FileNotFoundError:\n",
    "    print(\"Erro: Arquivo não encontrado\")\n",
    "finally:\n",
    "    arquivo.close()  # Fechar o arquivo sempre, mesmo se ocorrer uma exceção"
   ]
  },
  {
   "cell_type": "markdown",
   "id": "c34c80f1-60d3-4ae3-ab0c-e6ea373cfef9",
   "metadata": {},
   "source": [
    "# 6.2. Exceções personalizadas\n",
    "\n",
    "Além das exceções incorporadas no Python, você também pode criar suas próprias exceções personalizadas. Isso é útil quando deseja lidar com situações específicas do seu programa.\n",
    "\n",
    "Para criar uma exceção personalizada, você deve criar uma classe que herde da classe base Exception ou de uma de suas subclasses."
   ]
  },
  {
   "cell_type": "code",
   "execution_count": 4,
   "id": "db15cd1a-1678-46d7-a15b-7add9741b878",
   "metadata": {},
   "outputs": [
    {
     "name": "stdout",
     "output_type": "stream",
     "text": [
      "Erro: name 'condicao' is not defined\n"
     ]
    }
   ],
   "source": [
    "def funcao():\n",
    "    # Código que pode gerar uma exceção personalizada\n",
    "    if condicao:\n",
    "        raise Exception(\"Descrição do erro\")\n",
    "\n",
    "\n",
    "try:\n",
    "    funcao()\n",
    "except Exception as e:\n",
    "    print(f\"Erro: {str(e)}\")"
   ]
  },
  {
   "cell_type": "markdown",
   "id": "85be1cb8-6ed4-4ea9-8e8c-c25b8017647b",
   "metadata": {},
   "source": [
    "Neste exemplo, define-se uma função chamada funcao(). Dentro da função, verifica-se uma condição e, se for satisfeita, gera-se uma exceção utilizando a declaração raise. Em vez de criar uma classe personalizada, utiliza-se diretamente a classe base Exception para gerar a exceção."
   ]
  },
  {
   "cell_type": "markdown",
   "id": "659a218c-c350-4f68-9c28-8d761f7b909b",
   "metadata": {},
   "source": [
    "Depois, utiliza-se um bloco try-except para capturar e lidar com a exceção. A variável e é utilizada para acessar a descrição do erro fornecida ao gerar a exceção.\n",
    "\n",
    "O tratamento de erros e exceções é uma parte fundamental da programação em Python. Permite lidar com situações inesperadas de maneira controlada e evitar que seu programa trave ou pare abruptamente.\n",
    "\n",
    "Quando ocorre um erro no seu código, o Python gera uma exceção. Ao utilizar blocos try-except, você pode capturar e lidar com essas exceções de maneira adequada. Pode especificar diferentes blocos except para lidar com diferentes tipos de exceções e realizar ações específicas em cada caso."
   ]
  },
  {
   "cell_type": "markdown",
   "id": "68a13abd-ef83-4f08-9e24-b628edc439ad",
   "metadata": {},
   "source": [
    "Além disso, o bloco finally permite executar código de limpeza ou liberação de recursos, independentemente de ter ocorrido uma exceção ou não. Isso é útil para garantir que certas ações sejam sempre realizadas, como fechar arquivos ou conexões de banco de dados."
   ]
  },
  {
   "cell_type": "markdown",
   "id": "be217a35-dfb5-4ecc-9661-6720895958ea",
   "metadata": {},
   "source": [
    "# Importante\n",
    "\n",
    "**Considere os possíveis erros que podem ocorrer no seu código e utilize o tratamento de exceções adequado para lidar com eles de maneira apropriada. Isso tornará seus programas mais robustos e confiáveis.**"
   ]
  }
 ],
 "metadata": {
  "kernelspec": {
   "display_name": "Python 3 (ipykernel)",
   "language": "python",
   "name": "python3"
  },
  "language_info": {
   "codemirror_mode": {
    "name": "ipython",
    "version": 3
   },
   "file_extension": ".py",
   "mimetype": "text/x-python",
   "name": "python",
   "nbconvert_exporter": "python",
   "pygments_lexer": "ipython3",
   "version": "3.8.10"
  }
 },
 "nbformat": 4,
 "nbformat_minor": 5
}
